{
 "cells": [
  {
   "cell_type": "markdown",
   "metadata": {
    "collapsed": true
   },
   "source": [
    "# Guided Dataquest.io Project- Exploring Hacker News Posts\n",
    "This project will involve analyzing a dataset of posts submitted to the website Hacker News. The dataset originally contained 300,000 rows. Dataquest reduced the dataset to 20,000 rows by removing posts that do not contain comments and to contain a random sampling of posts. When analyzing the data, we will compare the frequency of certain types of posts and the number of comments per post."
   ]
  },
  {
   "cell_type": "code",
   "execution_count": 2,
   "metadata": {},
   "outputs": [
    {
     "name": "stdout",
     "output_type": "stream",
     "text": [
      "['id', 'title', 'url', 'num_points', 'num_comments', 'author', 'created_at']\n",
      "[['12224879', 'Interactive Dynamic Video', 'http://www.interactivedynamicvideo.com/', '386', '52', 'ne0phyte', '8/4/2016 11:52'], ['10975351', 'How to Use Open Source and Shut the Fuck Up at the Same Time', 'http://hueniverse.com/2016/01/26/how-to-use-open-source-and-shut-the-fuck-up-at-the-same-time/', '39', '10', 'josep2', '1/26/2016 19:30'], ['11964716', \"Florida DJs May Face Felony for April Fools' Water Joke\", 'http://www.thewire.com/entertainment/2013/04/florida-djs-april-fools-water-joke/63798/', '2', '1', 'vezycash', '6/23/2016 22:20'], ['11919867', 'Technology ventures: From Idea to Enterprise', 'https://www.amazon.com/Technology-Ventures-Enterprise-Thomas-Byers/dp/0073523429', '3', '1', 'hswarna', '6/17/2016 0:01']]\n"
     ]
    }
   ],
   "source": [
    "from csv import reader\n",
    "opened_file = open('hacker_news.csv')\n",
    "read_file = reader(opened_file)\n",
    "hn = list(read_file)\n",
    "\n",
    "header = hn[0]\n",
    "hn = hn[1:]\n",
    "print(header)\n",
    "print(hn[:4])"
   ]
  },
  {
   "cell_type": "markdown",
   "metadata": {},
   "source": [
    "We are interested in posts in the dataset with types \"Ask HN\" and \"Show HN\". We will separate the 2 types of posts into separate lists."
   ]
  },
  {
   "cell_type": "code",
   "execution_count": 3,
   "metadata": {},
   "outputs": [
    {
     "name": "stdout",
     "output_type": "stream",
     "text": [
      "Number of Ask HN posts:  1744\n",
      "Number of Show HN posts:  1162\n",
      "All other posts:  17194\n"
     ]
    }
   ],
   "source": [
    "ask_posts = []\n",
    "show_posts = []\n",
    "other_posts = []\n",
    "\n",
    "for row in hn:\n",
    "    title = row[1]\n",
    "    title = title.lower()\n",
    "    if title.startswith('ask hn'):\n",
    "        ask_posts.append(row)\n",
    "    elif title.startswith('show hn'):\n",
    "        show_posts.append(row)\n",
    "    else:\n",
    "        other_posts.append(row)\n",
    "        \n",
    "print(\"Number of Ask HN posts: \", len(ask_posts))\n",
    "print(\"Number of Show HN posts: \", len(show_posts))\n",
    "print(\"All other posts: \", len(other_posts))"
   ]
  },
  {
   "cell_type": "markdown",
   "metadata": {},
   "source": [
    "We are interested in the number of comments for each type of post. Below we calculate the total number of comments and average numbers of comments."
   ]
  },
  {
   "cell_type": "code",
   "execution_count": 4,
   "metadata": {},
   "outputs": [
    {
     "name": "stdout",
     "output_type": "stream",
     "text": [
      "Average number of Ask HN post comments:  14.038417431192661\n",
      "Average number of Show HN post comments:  10.31669535283993\n"
     ]
    }
   ],
   "source": [
    "total_ask_comments = 0\n",
    "for row in ask_posts:\n",
    "    ask_comments_count = int(row[4])\n",
    "    total_ask_comments += ask_comments_count\n",
    "\n",
    "avg_ask_comments = total_ask_comments / len(ask_posts)\n",
    "print(\"Average number of Ask HN post comments: \", avg_ask_comments)\n",
    "\n",
    "total_show_comments = 0\n",
    "for row in show_posts:\n",
    "    show_comments_count = int(row[4])\n",
    "    total_show_comments += show_comments_count\n",
    "    \n",
    "avg_show_comments = total_show_comments / len(show_posts)\n",
    "print(\"Average number of Show HN post comments: \", avg_show_comments)\n",
    "    "
   ]
  },
  {
   "cell_type": "markdown",
   "metadata": {},
   "source": [
    "Based on our findings above, Ask HN posts receive more comments on average."
   ]
  },
  {
   "cell_type": "markdown",
   "metadata": {},
   "source": [
    "## Ask HN posts analysis\n",
    "\n",
    "In the code below, we create 2 dictionaries to determine the number of Ask HN posts for every hour of the day and the number of Ask HN post comments for every hour of the day. To do this, we must isolate the hour from the datetime object for each Ask HN post and add the hour and comments counts to dictionaries."
   ]
  },
  {
   "cell_type": "code",
   "execution_count": 5,
   "metadata": {},
   "outputs": [
    {
     "name": "stdout",
     "output_type": "stream",
     "text": [
      "Count of Ask HN posts by hour:  {'09': 45, '13': 85, '10': 59, '14': 107, '16': 108, '23': 68, '12': 73, '17': 100, '15': 116, '21': 109, '20': 80, '02': 58, '18': 109, '03': 54, '05': 46, '19': 110, '01': 60, '22': 71, '08': 48, '04': 47, '00': 55, '06': 44, '07': 34, '11': 58}\n",
      "Comments by hour for Ask HN posts:  {'09': 251, '13': 1253, '10': 793, '14': 1416, '16': 1814, '23': 543, '12': 687, '17': 1146, '15': 4477, '21': 1745, '20': 1722, '02': 1381, '18': 1439, '03': 421, '05': 464, '19': 1188, '01': 683, '22': 479, '08': 492, '04': 337, '00': 447, '06': 397, '07': 267, '11': 641}\n"
     ]
    }
   ],
   "source": [
    "from datetime import datetime\n",
    "\n",
    "result_list = []\n",
    "\n",
    "for row in ask_posts:\n",
    "    created_time = row[6]\n",
    "    comments_count = int(row[4])\n",
    "    result_list.append((created_time, comments_count))\n",
    "    \n",
    "counts_by_hour = {}\n",
    "comments_by_hour = {}\n",
    "date_format = \"%m/%d/%Y %H:%M\"\n",
    "for row in result_list:\n",
    "    time = row[0]\n",
    "    time_object = datetime.strptime(time, date_format)\n",
    "    hour_object = time_object.strftime(\"%H\")\n",
    "    comments_count = row[1]\n",
    "    if hour_object not in counts_by_hour:\n",
    "        counts_by_hour[hour_object] = 1\n",
    "        comments_by_hour[hour_object] = comments_count\n",
    "    else:\n",
    "        counts_by_hour[hour_object] += 1\n",
    "        comments_by_hour[hour_object] += comments_count\n",
    "\n",
    "print(\"Count of Ask HN posts by hour: \", counts_by_hour)\n",
    "print(\"Comments by hour for Ask HN posts: \", comments_by_hour)"
   ]
  },
  {
   "cell_type": "markdown",
   "metadata": {},
   "source": [
    "The code below calculates the average number of comments per Ask HN post for each hour of the day. This was done by dividing the number of comments by hour by the number of Ask HN posts created per hour."
   ]
  },
  {
   "cell_type": "code",
   "execution_count": 6,
   "metadata": {},
   "outputs": [
    {
     "name": "stdout",
     "output_type": "stream",
     "text": [
      "[['09', 5.5777777777777775], ['13', 14.741176470588234], ['10', 13.440677966101696], ['14', 13.233644859813085], ['16', 16.796296296296298], ['23', 7.985294117647059], ['12', 9.41095890410959], ['17', 11.46], ['15', 38.5948275862069], ['21', 16.009174311926607], ['20', 21.525], ['02', 23.810344827586206], ['18', 13.20183486238532], ['03', 7.796296296296297], ['05', 10.08695652173913], ['19', 10.8], ['01', 11.383333333333333], ['22', 6.746478873239437], ['08', 10.25], ['04', 7.170212765957447], ['00', 8.127272727272727], ['06', 9.022727272727273], ['07', 7.852941176470588], ['11', 11.051724137931034]]\n"
     ]
    }
   ],
   "source": [
    "avgs_by_hour = []\n",
    "for hour in comments_by_hour:\n",
    "    avgs_by_hour.append([hour, comments_by_hour[hour] / counts_by_hour[hour]])\n",
    "    \n",
    "print(avgs_by_hour)"
   ]
  },
  {
   "cell_type": "markdown",
   "metadata": {},
   "source": [
    "In the code below, we determine the 5 hours with the highest average number of comments per Ask HN posts. We do this by sorting the avgs_by_hour list in descending order, then creating a time object for each hour for readability, then printing the 5 rows with the highest average number of comments per post."
   ]
  },
  {
   "cell_type": "code",
   "execution_count": 7,
   "metadata": {},
   "outputs": [
    {
     "name": "stdout",
     "output_type": "stream",
     "text": [
      "[(5.5777777777777775, '09'), (14.741176470588234, '13'), (13.440677966101696, '10'), (13.233644859813085, '14'), (16.796296296296298, '16'), (7.985294117647059, '23'), (9.41095890410959, '12'), (11.46, '17'), (38.5948275862069, '15'), (16.009174311926607, '21'), (21.525, '20'), (23.810344827586206, '02'), (13.20183486238532, '18'), (7.796296296296297, '03'), (10.08695652173913, '05'), (10.8, '19'), (11.383333333333333, '01'), (6.746478873239437, '22'), (10.25, '08'), (7.170212765957447, '04'), (8.127272727272727, '00'), (9.022727272727273, '06'), (7.852941176470588, '07'), (11.051724137931034, '11')]\n",
      "\n",
      "\n",
      "Top 5 Hours with the most Ask Post Comments:\n",
      "15:00: 38.59 average comments per post\n",
      "02:00: 23.81 average comments per post\n",
      "20:00: 21.52 average comments per post\n",
      "16:00: 16.80 average comments per post\n"
     ]
    }
   ],
   "source": [
    "swap_avg_by_hour = []\n",
    "for row in avgs_by_hour:\n",
    "    swap_avg_by_hour.append((row[1], row[0]))\n",
    "    \n",
    "print(swap_avg_by_hour)\n",
    "\n",
    "sorted_swap = sorted(swap_avg_by_hour, reverse = True)\n",
    "\n",
    "print(\"\\n\")\n",
    "print(\"Top 5 Hours with the most Ask Post Comments:\")\n",
    "for row in sorted_swap[:4]:\n",
    "    hour = datetime.strptime(row[1], '%H')\n",
    "    hour_object = hour.strftime('%H:%M')\n",
    "    string = \"{time}: {comments:.2f} average comments per post\".format(time=hour_object, comments=row[0])\n",
    "    print(string)"
   ]
  },
  {
   "cell_type": "markdown",
   "metadata": {},
   "source": [
    "Findings: Based on the data above, the hour in which an Ask HN post is most likely to receive comments is 15:00/3:00pm."
   ]
  },
  {
   "cell_type": "markdown",
   "metadata": {},
   "source": [
    "## Show HN posts analysis\n",
    "\n",
    "In the code below, we create 2 dictionaries to determine the number of Show HN posts for every hour of the day and the number of Show HN post comments for every hour of the day. "
   ]
  },
  {
   "cell_type": "code",
   "execution_count": 8,
   "metadata": {},
   "outputs": [
    {
     "name": "stdout",
     "output_type": "stream",
     "text": [
      "Count of Show HN posts by hour:  {'14': 86, '22': 46, '18': 61, '07': 26, '20': 60, '05': 19, '16': 93, '19': 55, '15': 78, '03': 27, '17': 93, '06': 16, '02': 30, '13': 99, '08': 34, '21': 47, '04': 26, '11': 44, '12': 61, '23': 36, '09': 30, '01': 28, '10': 36, '00': 31}\n",
      "Comments by hour for Show HN posts:  {'14': 1156, '22': 570, '18': 962, '07': 299, '20': 612, '05': 58, '16': 1084, '19': 539, '15': 632, '03': 287, '17': 911, '06': 142, '02': 127, '13': 946, '08': 165, '21': 272, '04': 247, '11': 491, '12': 720, '23': 447, '09': 291, '01': 246, '10': 297, '00': 487}\n"
     ]
    }
   ],
   "source": [
    "from datetime import datetime\n",
    "\n",
    "show_result_list = []\n",
    "\n",
    "for row in show_posts:\n",
    "    created_time = row[6]\n",
    "    comments_count = int(row[4])\n",
    "    show_result_list.append((created_time, comments_count))\n",
    "    \n",
    "show_counts_by_hour = {}\n",
    "show_comments_by_hour = {}\n",
    "date_format = \"%m/%d/%Y %H:%M\"\n",
    "for row in show_result_list:\n",
    "    time = row[0]\n",
    "    time_object = datetime.strptime(time, date_format)\n",
    "    hour_object = time_object.strftime(\"%H\")\n",
    "    comments_count = row[1]\n",
    "    if hour_object not in show_counts_by_hour:\n",
    "        show_counts_by_hour[hour_object] = 1\n",
    "        show_comments_by_hour[hour_object] = comments_count\n",
    "    else:\n",
    "        show_counts_by_hour[hour_object] += 1\n",
    "        show_comments_by_hour[hour_object] += comments_count\n",
    "\n",
    "print(\"Count of Show HN posts by hour: \", show_counts_by_hour)\n",
    "print(\"Comments by hour for Show HN posts: \", show_comments_by_hour)"
   ]
  },
  {
   "cell_type": "markdown",
   "metadata": {},
   "source": [
    "The code below calculates the average number of comments per Show HN post for each hour of the day."
   ]
  },
  {
   "cell_type": "code",
   "execution_count": 9,
   "metadata": {},
   "outputs": [
    {
     "name": "stdout",
     "output_type": "stream",
     "text": [
      "[['14', 13.44186046511628], ['22', 12.391304347826088], ['18', 15.770491803278688], ['07', 11.5], ['20', 10.2], ['05', 3.0526315789473686], ['16', 11.655913978494624], ['19', 9.8], ['15', 8.102564102564102], ['03', 10.62962962962963], ['17', 9.795698924731182], ['06', 8.875], ['02', 4.233333333333333], ['13', 9.555555555555555], ['08', 4.852941176470588], ['21', 5.787234042553192], ['04', 9.5], ['11', 11.159090909090908], ['12', 11.80327868852459], ['23', 12.416666666666666], ['09', 9.7], ['01', 8.785714285714286], ['10', 8.25], ['00', 15.709677419354838]]\n"
     ]
    }
   ],
   "source": [
    "show_avgs_by_hour = []\n",
    "for hour in show_comments_by_hour:\n",
    "    show_avgs_by_hour.append([hour, show_comments_by_hour[hour] / show_counts_by_hour[hour]])\n",
    "    \n",
    "print(show_avgs_by_hour)"
   ]
  },
  {
   "cell_type": "markdown",
   "metadata": {},
   "source": [
    "In the code below, we determine the 5 hours with the highest average number of comments per Show HN posts. "
   ]
  },
  {
   "cell_type": "code",
   "execution_count": 12,
   "metadata": {},
   "outputs": [
    {
     "name": "stdout",
     "output_type": "stream",
     "text": [
      "[(13.44186046511628, '14'), (12.391304347826088, '22'), (15.770491803278688, '18'), (11.5, '07'), (10.2, '20'), (3.0526315789473686, '05'), (11.655913978494624, '16'), (9.8, '19'), (8.102564102564102, '15'), (10.62962962962963, '03'), (9.795698924731182, '17'), (8.875, '06'), (4.233333333333333, '02'), (9.555555555555555, '13'), (4.852941176470588, '08'), (5.787234042553192, '21'), (9.5, '04'), (11.159090909090908, '11'), (11.80327868852459, '12'), (12.416666666666666, '23'), (9.7, '09'), (8.785714285714286, '01'), (8.25, '10'), (15.709677419354838, '00')]\n",
      "\n",
      "\n",
      "Top 5 Hours with the most Show HN Post Comments:\n",
      "18:00: 15.77 average comments per post\n",
      "00:00: 15.71 average comments per post\n",
      "14:00: 13.44 average comments per post\n",
      "23:00: 12.42 average comments per post\n"
     ]
    }
   ],
   "source": [
    "show_swap_avg_by_hour = []\n",
    "for row in show_avgs_by_hour:\n",
    "    show_swap_avg_by_hour.append((row[1], row[0]))\n",
    "    \n",
    "print(show_swap_avg_by_hour)\n",
    "\n",
    "show_sorted_swap = sorted(show_swap_avg_by_hour, reverse = True)\n",
    "\n",
    "print(\"\\n\")\n",
    "print(\"Top 5 Hours with the most Show HN Post Comments:\")\n",
    "for row in show_sorted_swap[:4]:\n",
    "    hour = datetime.strptime(row[1], '%H')\n",
    "    hour_object = hour.strftime('%H:%M')\n",
    "    string = \"{time}: {comments:.2f} average comments per post\".format(time=hour_object, comments=row[0])\n",
    "    print(string)"
   ]
  },
  {
   "cell_type": "markdown",
   "metadata": {},
   "source": [
    "Findings: Based on the data above, the hour in which a Show HN post is most likely to receive comments is 18:00/6:00pm."
   ]
  },
  {
   "cell_type": "markdown",
   "metadata": {},
   "source": [
    "## Analysis: Ask HN vs. Show HN posts\n",
    "\n",
    "- Although the times of day in which posts have the highest average number of comments is similar, Show HN posts are more commonly posted later in the day compared to Ask HN posts.\n",
    "- Ask HN posts receive more comments per post on average."
   ]
  }
 ],
 "metadata": {
  "kernelspec": {
   "display_name": "Python 3",
   "language": "python",
   "name": "python3"
  },
  "language_info": {
   "codemirror_mode": {
    "name": "ipython",
    "version": 3
   },
   "file_extension": ".py",
   "mimetype": "text/x-python",
   "name": "python",
   "nbconvert_exporter": "python",
   "pygments_lexer": "ipython3",
   "version": "3.8.2"
  }
 },
 "nbformat": 4,
 "nbformat_minor": 2
}
